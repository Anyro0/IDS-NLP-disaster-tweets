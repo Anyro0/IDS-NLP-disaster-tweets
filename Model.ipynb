{
 "cells": [
  {
   "cell_type": "markdown",
   "id": "faee0b0c-d77b-4d7d-8bcf-b3b81bb38a78",
   "metadata": {},
   "source": [
    "# Natural Language Processing with Disaster Tweets"
   ]
  },
  {
   "cell_type": "markdown",
   "id": "dd5d6fa7-52e0-4cd2-bbc9-e509c4cf0692",
   "metadata": {},
   "source": [
    "### Team: Robyn Tomson and Otto-Cristofer Vanasaun"
   ]
  },
  {
   "cell_type": "markdown",
   "id": "e66e65a2-39eb-49e7-909e-4b4f379930ed",
   "metadata": {},
   "source": [
    "#### Downloading and importing essential dependencies and Python packages."
   ]
  },
  {
   "cell_type": "code",
   "execution_count": 234,
   "id": "56ad1574-02ce-46dc-a92e-6446eafaf7cf",
   "metadata": {
    "scrolled": true
   },
   "outputs": [
    {
     "name": "stdout",
     "output_type": "stream",
     "text": [
      "Requirement already satisfied: transformers in c:\\users\\vanasauo\\appdata\\local\\anaconda3\\envs\\ids\\lib\\site-packages (4.46.3)\n",
      "Requirement already satisfied: datasets in c:\\users\\vanasauo\\appdata\\local\\anaconda3\\envs\\ids\\lib\\site-packages (3.1.0)\n",
      "Requirement already satisfied: torch in c:\\users\\vanasauo\\appdata\\local\\anaconda3\\envs\\ids\\lib\\site-packages (2.5.1)\n",
      "Requirement already satisfied: scikit-learn in c:\\users\\vanasauo\\appdata\\local\\anaconda3\\envs\\ids\\lib\\site-packages (1.5.2)\n",
      "Requirement already satisfied: filelock in c:\\users\\vanasauo\\appdata\\local\\anaconda3\\envs\\ids\\lib\\site-packages (from transformers) (3.16.1)\n",
      "Requirement already satisfied: huggingface-hub<1.0,>=0.23.2 in c:\\users\\vanasauo\\appdata\\local\\anaconda3\\envs\\ids\\lib\\site-packages (from transformers) (0.26.3)\n",
      "Requirement already satisfied: numpy>=1.17 in c:\\users\\vanasauo\\appdata\\local\\anaconda3\\envs\\ids\\lib\\site-packages (from transformers) (2.0.2)\n",
      "Requirement already satisfied: packaging>=20.0 in c:\\users\\vanasauo\\appdata\\local\\anaconda3\\envs\\ids\\lib\\site-packages (from transformers) (24.1)\n",
      "Requirement already satisfied: pyyaml>=5.1 in c:\\users\\vanasauo\\appdata\\local\\anaconda3\\envs\\ids\\lib\\site-packages (from transformers) (6.0.1)\n",
      "Requirement already satisfied: regex!=2019.12.17 in c:\\users\\vanasauo\\appdata\\local\\anaconda3\\envs\\ids\\lib\\site-packages (from transformers) (2024.11.6)\n",
      "Requirement already satisfied: requests in c:\\users\\vanasauo\\appdata\\local\\anaconda3\\envs\\ids\\lib\\site-packages (from transformers) (2.32.3)\n",
      "Requirement already satisfied: tokenizers<0.21,>=0.20 in c:\\users\\vanasauo\\appdata\\local\\anaconda3\\envs\\ids\\lib\\site-packages (from transformers) (0.20.3)\n",
      "Requirement already satisfied: safetensors>=0.4.1 in c:\\users\\vanasauo\\appdata\\local\\anaconda3\\envs\\ids\\lib\\site-packages (from transformers) (0.4.5)\n",
      "Requirement already satisfied: tqdm>=4.27 in c:\\users\\vanasauo\\appdata\\local\\anaconda3\\envs\\ids\\lib\\site-packages (from transformers) (4.67.0)\n",
      "Requirement already satisfied: pyarrow>=15.0.0 in c:\\users\\vanasauo\\appdata\\local\\anaconda3\\envs\\ids\\lib\\site-packages (from datasets) (18.1.0)\n",
      "Requirement already satisfied: dill<0.3.9,>=0.3.0 in c:\\users\\vanasauo\\appdata\\local\\anaconda3\\envs\\ids\\lib\\site-packages (from datasets) (0.3.8)\n",
      "Requirement already satisfied: pandas in c:\\users\\vanasauo\\appdata\\local\\anaconda3\\envs\\ids\\lib\\site-packages (from datasets) (2.2.2)\n",
      "Requirement already satisfied: xxhash in c:\\users\\vanasauo\\appdata\\local\\anaconda3\\envs\\ids\\lib\\site-packages (from datasets) (3.5.0)\n",
      "Requirement already satisfied: multiprocess<0.70.17 in c:\\users\\vanasauo\\appdata\\local\\anaconda3\\envs\\ids\\lib\\site-packages (from datasets) (0.70.16)\n",
      "Requirement already satisfied: fsspec<=2024.9.0,>=2023.1.0 in c:\\users\\vanasauo\\appdata\\local\\anaconda3\\envs\\ids\\lib\\site-packages (from fsspec[http]<=2024.9.0,>=2023.1.0->datasets) (2024.9.0)\n",
      "Requirement already satisfied: aiohttp in c:\\users\\vanasauo\\appdata\\local\\anaconda3\\envs\\ids\\lib\\site-packages (from datasets) (3.11.9)\n",
      "Requirement already satisfied: typing-extensions>=4.8.0 in c:\\users\\vanasauo\\appdata\\local\\anaconda3\\envs\\ids\\lib\\site-packages (from torch) (4.12.2)\n",
      "Requirement already satisfied: networkx in c:\\users\\vanasauo\\appdata\\local\\anaconda3\\envs\\ids\\lib\\site-packages (from torch) (3.2.1)\n",
      "Requirement already satisfied: jinja2 in c:\\users\\vanasauo\\appdata\\local\\anaconda3\\envs\\ids\\lib\\site-packages (from torch) (3.1.4)\n",
      "Requirement already satisfied: sympy==1.13.1 in c:\\users\\vanasauo\\appdata\\local\\anaconda3\\envs\\ids\\lib\\site-packages (from torch) (1.13.1)\n",
      "Requirement already satisfied: mpmath<1.4,>=1.1.0 in c:\\users\\vanasauo\\appdata\\local\\anaconda3\\envs\\ids\\lib\\site-packages (from sympy==1.13.1->torch) (1.3.0)\n",
      "Requirement already satisfied: scipy>=1.6.0 in c:\\users\\vanasauo\\appdata\\local\\anaconda3\\envs\\ids\\lib\\site-packages (from scikit-learn) (1.13.1)\n",
      "Requirement already satisfied: joblib>=1.2.0 in c:\\users\\vanasauo\\appdata\\local\\anaconda3\\envs\\ids\\lib\\site-packages (from scikit-learn) (1.4.2)\n",
      "Requirement already satisfied: threadpoolctl>=3.1.0 in c:\\users\\vanasauo\\appdata\\local\\anaconda3\\envs\\ids\\lib\\site-packages (from scikit-learn) (3.5.0)\n",
      "Requirement already satisfied: aiohappyeyeballs>=2.3.0 in c:\\users\\vanasauo\\appdata\\local\\anaconda3\\envs\\ids\\lib\\site-packages (from aiohttp->datasets) (2.4.4)\n",
      "Requirement already satisfied: aiosignal>=1.1.2 in c:\\users\\vanasauo\\appdata\\local\\anaconda3\\envs\\ids\\lib\\site-packages (from aiohttp->datasets) (1.3.1)\n",
      "Requirement already satisfied: async-timeout<6.0,>=4.0 in c:\\users\\vanasauo\\appdata\\local\\anaconda3\\envs\\ids\\lib\\site-packages (from aiohttp->datasets) (5.0.1)\n",
      "Requirement already satisfied: attrs>=17.3.0 in c:\\users\\vanasauo\\appdata\\local\\anaconda3\\envs\\ids\\lib\\site-packages (from aiohttp->datasets) (23.1.0)\n",
      "Requirement already satisfied: frozenlist>=1.1.1 in c:\\users\\vanasauo\\appdata\\local\\anaconda3\\envs\\ids\\lib\\site-packages (from aiohttp->datasets) (1.5.0)\n",
      "Requirement already satisfied: multidict<7.0,>=4.5 in c:\\users\\vanasauo\\appdata\\local\\anaconda3\\envs\\ids\\lib\\site-packages (from aiohttp->datasets) (6.1.0)\n",
      "Requirement already satisfied: propcache>=0.2.0 in c:\\users\\vanasauo\\appdata\\local\\anaconda3\\envs\\ids\\lib\\site-packages (from aiohttp->datasets) (0.2.1)\n",
      "Requirement already satisfied: yarl<2.0,>=1.17.0 in c:\\users\\vanasauo\\appdata\\local\\anaconda3\\envs\\ids\\lib\\site-packages (from aiohttp->datasets) (1.18.3)\n",
      "Requirement already satisfied: charset-normalizer<4,>=2 in c:\\users\\vanasauo\\appdata\\local\\anaconda3\\envs\\ids\\lib\\site-packages (from requests->transformers) (3.3.2)\n",
      "Requirement already satisfied: idna<4,>=2.5 in c:\\users\\vanasauo\\appdata\\local\\anaconda3\\envs\\ids\\lib\\site-packages (from requests->transformers) (3.7)\n",
      "Requirement already satisfied: urllib3<3,>=1.21.1 in c:\\users\\vanasauo\\appdata\\local\\anaconda3\\envs\\ids\\lib\\site-packages (from requests->transformers) (2.2.2)\n",
      "Requirement already satisfied: certifi>=2017.4.17 in c:\\users\\vanasauo\\appdata\\local\\anaconda3\\envs\\ids\\lib\\site-packages (from requests->transformers) (2024.8.30)\n",
      "Requirement already satisfied: colorama in c:\\users\\vanasauo\\appdata\\local\\anaconda3\\envs\\ids\\lib\\site-packages (from tqdm>=4.27->transformers) (0.4.6)\n",
      "Requirement already satisfied: MarkupSafe>=2.0 in c:\\users\\vanasauo\\appdata\\local\\anaconda3\\envs\\ids\\lib\\site-packages (from jinja2->torch) (2.1.3)\n",
      "Requirement already satisfied: python-dateutil>=2.8.2 in c:\\users\\vanasauo\\appdata\\local\\anaconda3\\envs\\ids\\lib\\site-packages (from pandas->datasets) (2.9.0.post0)\n",
      "Requirement already satisfied: pytz>=2020.1 in c:\\users\\vanasauo\\appdata\\local\\anaconda3\\envs\\ids\\lib\\site-packages (from pandas->datasets) (2024.1)\n",
      "Requirement already satisfied: tzdata>=2022.7 in c:\\users\\vanasauo\\appdata\\local\\anaconda3\\envs\\ids\\lib\\site-packages (from pandas->datasets) (2023.3)\n",
      "Requirement already satisfied: six>=1.5 in c:\\users\\vanasauo\\appdata\\local\\anaconda3\\envs\\ids\\lib\\site-packages (from python-dateutil>=2.8.2->pandas->datasets) (1.16.0)\n",
      "Requirement already satisfied: tf-keras in c:\\users\\vanasauo\\appdata\\local\\anaconda3\\envs\\ids\\lib\\site-packages (2.18.0)\n",
      "Requirement already satisfied: tensorflow<2.19,>=2.18 in c:\\users\\vanasauo\\appdata\\local\\anaconda3\\envs\\ids\\lib\\site-packages (from tf-keras) (2.18.0)\n",
      "Requirement already satisfied: tensorflow-intel==2.18.0 in c:\\users\\vanasauo\\appdata\\local\\anaconda3\\envs\\ids\\lib\\site-packages (from tensorflow<2.19,>=2.18->tf-keras) (2.18.0)\n",
      "Requirement already satisfied: absl-py>=1.0.0 in c:\\users\\vanasauo\\appdata\\local\\anaconda3\\envs\\ids\\lib\\site-packages (from tensorflow-intel==2.18.0->tensorflow<2.19,>=2.18->tf-keras) (2.1.0)\n",
      "Requirement already satisfied: astunparse>=1.6.0 in c:\\users\\vanasauo\\appdata\\local\\anaconda3\\envs\\ids\\lib\\site-packages (from tensorflow-intel==2.18.0->tensorflow<2.19,>=2.18->tf-keras) (1.6.3)\n",
      "Requirement already satisfied: flatbuffers>=24.3.25 in c:\\users\\vanasauo\\appdata\\local\\anaconda3\\envs\\ids\\lib\\site-packages (from tensorflow-intel==2.18.0->tensorflow<2.19,>=2.18->tf-keras) (24.3.25)\n",
      "Requirement already satisfied: gast!=0.5.0,!=0.5.1,!=0.5.2,>=0.2.1 in c:\\users\\vanasauo\\appdata\\local\\anaconda3\\envs\\ids\\lib\\site-packages (from tensorflow-intel==2.18.0->tensorflow<2.19,>=2.18->tf-keras) (0.6.0)\n",
      "Requirement already satisfied: google-pasta>=0.1.1 in c:\\users\\vanasauo\\appdata\\local\\anaconda3\\envs\\ids\\lib\\site-packages (from tensorflow-intel==2.18.0->tensorflow<2.19,>=2.18->tf-keras) (0.2.0)\n",
      "Requirement already satisfied: libclang>=13.0.0 in c:\\users\\vanasauo\\appdata\\local\\anaconda3\\envs\\ids\\lib\\site-packages (from tensorflow-intel==2.18.0->tensorflow<2.19,>=2.18->tf-keras) (18.1.1)\n",
      "Requirement already satisfied: opt-einsum>=2.3.2 in c:\\users\\vanasauo\\appdata\\local\\anaconda3\\envs\\ids\\lib\\site-packages (from tensorflow-intel==2.18.0->tensorflow<2.19,>=2.18->tf-keras) (3.4.0)\n",
      "Requirement already satisfied: packaging in c:\\users\\vanasauo\\appdata\\local\\anaconda3\\envs\\ids\\lib\\site-packages (from tensorflow-intel==2.18.0->tensorflow<2.19,>=2.18->tf-keras) (24.1)\n",
      "Requirement already satisfied: protobuf!=4.21.0,!=4.21.1,!=4.21.2,!=4.21.3,!=4.21.4,!=4.21.5,<6.0.0dev,>=3.20.3 in c:\\users\\vanasauo\\appdata\\local\\anaconda3\\envs\\ids\\lib\\site-packages (from tensorflow-intel==2.18.0->tensorflow<2.19,>=2.18->tf-keras) (3.20.3)\n",
      "Requirement already satisfied: requests<3,>=2.21.0 in c:\\users\\vanasauo\\appdata\\local\\anaconda3\\envs\\ids\\lib\\site-packages (from tensorflow-intel==2.18.0->tensorflow<2.19,>=2.18->tf-keras) (2.32.3)\n",
      "Requirement already satisfied: setuptools in c:\\users\\vanasauo\\appdata\\local\\anaconda3\\envs\\ids\\lib\\site-packages (from tensorflow-intel==2.18.0->tensorflow<2.19,>=2.18->tf-keras) (72.1.0)\n",
      "Requirement already satisfied: six>=1.12.0 in c:\\users\\vanasauo\\appdata\\local\\anaconda3\\envs\\ids\\lib\\site-packages (from tensorflow-intel==2.18.0->tensorflow<2.19,>=2.18->tf-keras) (1.16.0)\n",
      "Requirement already satisfied: termcolor>=1.1.0 in c:\\users\\vanasauo\\appdata\\local\\anaconda3\\envs\\ids\\lib\\site-packages (from tensorflow-intel==2.18.0->tensorflow<2.19,>=2.18->tf-keras) (2.5.0)\n",
      "Requirement already satisfied: typing-extensions>=3.6.6 in c:\\users\\vanasauo\\appdata\\local\\anaconda3\\envs\\ids\\lib\\site-packages (from tensorflow-intel==2.18.0->tensorflow<2.19,>=2.18->tf-keras) (4.12.2)\n",
      "Requirement already satisfied: wrapt>=1.11.0 in c:\\users\\vanasauo\\appdata\\local\\anaconda3\\envs\\ids\\lib\\site-packages (from tensorflow-intel==2.18.0->tensorflow<2.19,>=2.18->tf-keras) (1.16.0)\n",
      "Requirement already satisfied: grpcio<2.0,>=1.24.3 in c:\\users\\vanasauo\\appdata\\local\\anaconda3\\envs\\ids\\lib\\site-packages (from tensorflow-intel==2.18.0->tensorflow<2.19,>=2.18->tf-keras) (1.68.0)\n",
      "Requirement already satisfied: tensorboard<2.19,>=2.18 in c:\\users\\vanasauo\\appdata\\local\\anaconda3\\envs\\ids\\lib\\site-packages (from tensorflow-intel==2.18.0->tensorflow<2.19,>=2.18->tf-keras) (2.18.0)\n",
      "Requirement already satisfied: keras>=3.5.0 in c:\\users\\vanasauo\\appdata\\local\\anaconda3\\envs\\ids\\lib\\site-packages (from tensorflow-intel==2.18.0->tensorflow<2.19,>=2.18->tf-keras) (3.6.0)\n",
      "Requirement already satisfied: numpy<2.1.0,>=1.26.0 in c:\\users\\vanasauo\\appdata\\local\\anaconda3\\envs\\ids\\lib\\site-packages (from tensorflow-intel==2.18.0->tensorflow<2.19,>=2.18->tf-keras) (2.0.2)\n",
      "Requirement already satisfied: h5py>=3.11.0 in c:\\users\\vanasauo\\appdata\\local\\anaconda3\\envs\\ids\\lib\\site-packages (from tensorflow-intel==2.18.0->tensorflow<2.19,>=2.18->tf-keras) (3.12.1)\n",
      "Requirement already satisfied: ml-dtypes<0.5.0,>=0.4.0 in c:\\users\\vanasauo\\appdata\\local\\anaconda3\\envs\\ids\\lib\\site-packages (from tensorflow-intel==2.18.0->tensorflow<2.19,>=2.18->tf-keras) (0.4.1)\n",
      "Requirement already satisfied: tensorflow-io-gcs-filesystem>=0.23.1 in c:\\users\\vanasauo\\appdata\\local\\anaconda3\\envs\\ids\\lib\\site-packages (from tensorflow-intel==2.18.0->tensorflow<2.19,>=2.18->tf-keras) (0.31.0)\n",
      "Requirement already satisfied: wheel<1.0,>=0.23.0 in c:\\users\\vanasauo\\appdata\\local\\anaconda3\\envs\\ids\\lib\\site-packages (from astunparse>=1.6.0->tensorflow-intel==2.18.0->tensorflow<2.19,>=2.18->tf-keras) (0.44.0)\n",
      "Requirement already satisfied: rich in c:\\users\\vanasauo\\appdata\\local\\anaconda3\\envs\\ids\\lib\\site-packages (from keras>=3.5.0->tensorflow-intel==2.18.0->tensorflow<2.19,>=2.18->tf-keras) (13.9.4)\n",
      "Requirement already satisfied: namex in c:\\users\\vanasauo\\appdata\\local\\anaconda3\\envs\\ids\\lib\\site-packages (from keras>=3.5.0->tensorflow-intel==2.18.0->tensorflow<2.19,>=2.18->tf-keras) (0.0.8)\n",
      "Requirement already satisfied: optree in c:\\users\\vanasauo\\appdata\\local\\anaconda3\\envs\\ids\\lib\\site-packages (from keras>=3.5.0->tensorflow-intel==2.18.0->tensorflow<2.19,>=2.18->tf-keras) (0.13.1)\n",
      "Requirement already satisfied: charset-normalizer<4,>=2 in c:\\users\\vanasauo\\appdata\\local\\anaconda3\\envs\\ids\\lib\\site-packages (from requests<3,>=2.21.0->tensorflow-intel==2.18.0->tensorflow<2.19,>=2.18->tf-keras) (3.3.2)\n",
      "Requirement already satisfied: idna<4,>=2.5 in c:\\users\\vanasauo\\appdata\\local\\anaconda3\\envs\\ids\\lib\\site-packages (from requests<3,>=2.21.0->tensorflow-intel==2.18.0->tensorflow<2.19,>=2.18->tf-keras) (3.7)\n",
      "Requirement already satisfied: urllib3<3,>=1.21.1 in c:\\users\\vanasauo\\appdata\\local\\anaconda3\\envs\\ids\\lib\\site-packages (from requests<3,>=2.21.0->tensorflow-intel==2.18.0->tensorflow<2.19,>=2.18->tf-keras) (2.2.2)\n",
      "Requirement already satisfied: certifi>=2017.4.17 in c:\\users\\vanasauo\\appdata\\local\\anaconda3\\envs\\ids\\lib\\site-packages (from requests<3,>=2.21.0->tensorflow-intel==2.18.0->tensorflow<2.19,>=2.18->tf-keras) (2024.8.30)\n",
      "Requirement already satisfied: markdown>=2.6.8 in c:\\users\\vanasauo\\appdata\\local\\anaconda3\\envs\\ids\\lib\\site-packages (from tensorboard<2.19,>=2.18->tensorflow-intel==2.18.0->tensorflow<2.19,>=2.18->tf-keras) (3.7)\n",
      "Requirement already satisfied: tensorboard-data-server<0.8.0,>=0.7.0 in c:\\users\\vanasauo\\appdata\\local\\anaconda3\\envs\\ids\\lib\\site-packages (from tensorboard<2.19,>=2.18->tensorflow-intel==2.18.0->tensorflow<2.19,>=2.18->tf-keras) (0.7.2)\n",
      "Requirement already satisfied: werkzeug>=1.0.1 in c:\\users\\vanasauo\\appdata\\local\\anaconda3\\envs\\ids\\lib\\site-packages (from tensorboard<2.19,>=2.18->tensorflow-intel==2.18.0->tensorflow<2.19,>=2.18->tf-keras) (3.1.3)\n",
      "Requirement already satisfied: importlib-metadata>=4.4 in c:\\users\\vanasauo\\appdata\\local\\anaconda3\\envs\\ids\\lib\\site-packages (from markdown>=2.6.8->tensorboard<2.19,>=2.18->tensorflow-intel==2.18.0->tensorflow<2.19,>=2.18->tf-keras) (7.0.1)\n",
      "Requirement already satisfied: MarkupSafe>=2.1.1 in c:\\users\\vanasauo\\appdata\\local\\anaconda3\\envs\\ids\\lib\\site-packages (from werkzeug>=1.0.1->tensorboard<2.19,>=2.18->tensorflow-intel==2.18.0->tensorflow<2.19,>=2.18->tf-keras) (2.1.3)\n",
      "Requirement already satisfied: markdown-it-py>=2.2.0 in c:\\users\\vanasauo\\appdata\\local\\anaconda3\\envs\\ids\\lib\\site-packages (from rich->keras>=3.5.0->tensorflow-intel==2.18.0->tensorflow<2.19,>=2.18->tf-keras) (3.0.0)\n",
      "Requirement already satisfied: pygments<3.0.0,>=2.13.0 in c:\\users\\vanasauo\\appdata\\local\\anaconda3\\envs\\ids\\lib\\site-packages (from rich->keras>=3.5.0->tensorflow-intel==2.18.0->tensorflow<2.19,>=2.18->tf-keras) (2.15.1)\n",
      "Requirement already satisfied: zipp>=0.5 in c:\\users\\vanasauo\\appdata\\local\\anaconda3\\envs\\ids\\lib\\site-packages (from importlib-metadata>=4.4->markdown>=2.6.8->tensorboard<2.19,>=2.18->tensorflow-intel==2.18.0->tensorflow<2.19,>=2.18->tf-keras) (3.17.0)\n",
      "Requirement already satisfied: mdurl~=0.1 in c:\\users\\vanasauo\\appdata\\local\\anaconda3\\envs\\ids\\lib\\site-packages (from markdown-it-py>=2.2.0->rich->keras>=3.5.0->tensorflow-intel==2.18.0->tensorflow<2.19,>=2.18->tf-keras) (0.1.2)\n",
      "Requirement already satisfied: tensorflow in c:\\users\\vanasauo\\appdata\\local\\anaconda3\\envs\\ids\\lib\\site-packages (2.18.0)\n",
      "Requirement already satisfied: tensorflow-intel==2.18.0 in c:\\users\\vanasauo\\appdata\\local\\anaconda3\\envs\\ids\\lib\\site-packages (from tensorflow) (2.18.0)\n",
      "Requirement already satisfied: absl-py>=1.0.0 in c:\\users\\vanasauo\\appdata\\local\\anaconda3\\envs\\ids\\lib\\site-packages (from tensorflow-intel==2.18.0->tensorflow) (2.1.0)\n",
      "Requirement already satisfied: astunparse>=1.6.0 in c:\\users\\vanasauo\\appdata\\local\\anaconda3\\envs\\ids\\lib\\site-packages (from tensorflow-intel==2.18.0->tensorflow) (1.6.3)\n",
      "Requirement already satisfied: flatbuffers>=24.3.25 in c:\\users\\vanasauo\\appdata\\local\\anaconda3\\envs\\ids\\lib\\site-packages (from tensorflow-intel==2.18.0->tensorflow) (24.3.25)\n",
      "Requirement already satisfied: gast!=0.5.0,!=0.5.1,!=0.5.2,>=0.2.1 in c:\\users\\vanasauo\\appdata\\local\\anaconda3\\envs\\ids\\lib\\site-packages (from tensorflow-intel==2.18.0->tensorflow) (0.6.0)\n",
      "Requirement already satisfied: google-pasta>=0.1.1 in c:\\users\\vanasauo\\appdata\\local\\anaconda3\\envs\\ids\\lib\\site-packages (from tensorflow-intel==2.18.0->tensorflow) (0.2.0)\n",
      "Requirement already satisfied: libclang>=13.0.0 in c:\\users\\vanasauo\\appdata\\local\\anaconda3\\envs\\ids\\lib\\site-packages (from tensorflow-intel==2.18.0->tensorflow) (18.1.1)\n",
      "Requirement already satisfied: opt-einsum>=2.3.2 in c:\\users\\vanasauo\\appdata\\local\\anaconda3\\envs\\ids\\lib\\site-packages (from tensorflow-intel==2.18.0->tensorflow) (3.4.0)\n",
      "Requirement already satisfied: packaging in c:\\users\\vanasauo\\appdata\\local\\anaconda3\\envs\\ids\\lib\\site-packages (from tensorflow-intel==2.18.0->tensorflow) (24.1)\n",
      "Requirement already satisfied: protobuf!=4.21.0,!=4.21.1,!=4.21.2,!=4.21.3,!=4.21.4,!=4.21.5,<6.0.0dev,>=3.20.3 in c:\\users\\vanasauo\\appdata\\local\\anaconda3\\envs\\ids\\lib\\site-packages (from tensorflow-intel==2.18.0->tensorflow) (3.20.3)\n",
      "Requirement already satisfied: requests<3,>=2.21.0 in c:\\users\\vanasauo\\appdata\\local\\anaconda3\\envs\\ids\\lib\\site-packages (from tensorflow-intel==2.18.0->tensorflow) (2.32.3)\n",
      "Requirement already satisfied: setuptools in c:\\users\\vanasauo\\appdata\\local\\anaconda3\\envs\\ids\\lib\\site-packages (from tensorflow-intel==2.18.0->tensorflow) (72.1.0)\n",
      "Requirement already satisfied: six>=1.12.0 in c:\\users\\vanasauo\\appdata\\local\\anaconda3\\envs\\ids\\lib\\site-packages (from tensorflow-intel==2.18.0->tensorflow) (1.16.0)\n",
      "Requirement already satisfied: termcolor>=1.1.0 in c:\\users\\vanasauo\\appdata\\local\\anaconda3\\envs\\ids\\lib\\site-packages (from tensorflow-intel==2.18.0->tensorflow) (2.5.0)\n",
      "Requirement already satisfied: typing-extensions>=3.6.6 in c:\\users\\vanasauo\\appdata\\local\\anaconda3\\envs\\ids\\lib\\site-packages (from tensorflow-intel==2.18.0->tensorflow) (4.12.2)\n",
      "Requirement already satisfied: wrapt>=1.11.0 in c:\\users\\vanasauo\\appdata\\local\\anaconda3\\envs\\ids\\lib\\site-packages (from tensorflow-intel==2.18.0->tensorflow) (1.16.0)\n",
      "Requirement already satisfied: grpcio<2.0,>=1.24.3 in c:\\users\\vanasauo\\appdata\\local\\anaconda3\\envs\\ids\\lib\\site-packages (from tensorflow-intel==2.18.0->tensorflow) (1.68.0)\n",
      "Requirement already satisfied: tensorboard<2.19,>=2.18 in c:\\users\\vanasauo\\appdata\\local\\anaconda3\\envs\\ids\\lib\\site-packages (from tensorflow-intel==2.18.0->tensorflow) (2.18.0)\n",
      "Requirement already satisfied: keras>=3.5.0 in c:\\users\\vanasauo\\appdata\\local\\anaconda3\\envs\\ids\\lib\\site-packages (from tensorflow-intel==2.18.0->tensorflow) (3.6.0)\n",
      "Requirement already satisfied: numpy<2.1.0,>=1.26.0 in c:\\users\\vanasauo\\appdata\\local\\anaconda3\\envs\\ids\\lib\\site-packages (from tensorflow-intel==2.18.0->tensorflow) (2.0.2)\n",
      "Requirement already satisfied: h5py>=3.11.0 in c:\\users\\vanasauo\\appdata\\local\\anaconda3\\envs\\ids\\lib\\site-packages (from tensorflow-intel==2.18.0->tensorflow) (3.12.1)\n",
      "Requirement already satisfied: ml-dtypes<0.5.0,>=0.4.0 in c:\\users\\vanasauo\\appdata\\local\\anaconda3\\envs\\ids\\lib\\site-packages (from tensorflow-intel==2.18.0->tensorflow) (0.4.1)\n",
      "Requirement already satisfied: tensorflow-io-gcs-filesystem>=0.23.1 in c:\\users\\vanasauo\\appdata\\local\\anaconda3\\envs\\ids\\lib\\site-packages (from tensorflow-intel==2.18.0->tensorflow) (0.31.0)\n",
      "Requirement already satisfied: wheel<1.0,>=0.23.0 in c:\\users\\vanasauo\\appdata\\local\\anaconda3\\envs\\ids\\lib\\site-packages (from astunparse>=1.6.0->tensorflow-intel==2.18.0->tensorflow) (0.44.0)\n",
      "Requirement already satisfied: rich in c:\\users\\vanasauo\\appdata\\local\\anaconda3\\envs\\ids\\lib\\site-packages (from keras>=3.5.0->tensorflow-intel==2.18.0->tensorflow) (13.9.4)\n",
      "Requirement already satisfied: namex in c:\\users\\vanasauo\\appdata\\local\\anaconda3\\envs\\ids\\lib\\site-packages (from keras>=3.5.0->tensorflow-intel==2.18.0->tensorflow) (0.0.8)\n",
      "Requirement already satisfied: optree in c:\\users\\vanasauo\\appdata\\local\\anaconda3\\envs\\ids\\lib\\site-packages (from keras>=3.5.0->tensorflow-intel==2.18.0->tensorflow) (0.13.1)\n",
      "Requirement already satisfied: charset-normalizer<4,>=2 in c:\\users\\vanasauo\\appdata\\local\\anaconda3\\envs\\ids\\lib\\site-packages (from requests<3,>=2.21.0->tensorflow-intel==2.18.0->tensorflow) (3.3.2)\n",
      "Requirement already satisfied: idna<4,>=2.5 in c:\\users\\vanasauo\\appdata\\local\\anaconda3\\envs\\ids\\lib\\site-packages (from requests<3,>=2.21.0->tensorflow-intel==2.18.0->tensorflow) (3.7)\n",
      "Requirement already satisfied: urllib3<3,>=1.21.1 in c:\\users\\vanasauo\\appdata\\local\\anaconda3\\envs\\ids\\lib\\site-packages (from requests<3,>=2.21.0->tensorflow-intel==2.18.0->tensorflow) (2.2.2)\n",
      "Requirement already satisfied: certifi>=2017.4.17 in c:\\users\\vanasauo\\appdata\\local\\anaconda3\\envs\\ids\\lib\\site-packages (from requests<3,>=2.21.0->tensorflow-intel==2.18.0->tensorflow) (2024.8.30)\n",
      "Requirement already satisfied: markdown>=2.6.8 in c:\\users\\vanasauo\\appdata\\local\\anaconda3\\envs\\ids\\lib\\site-packages (from tensorboard<2.19,>=2.18->tensorflow-intel==2.18.0->tensorflow) (3.7)\n",
      "Requirement already satisfied: tensorboard-data-server<0.8.0,>=0.7.0 in c:\\users\\vanasauo\\appdata\\local\\anaconda3\\envs\\ids\\lib\\site-packages (from tensorboard<2.19,>=2.18->tensorflow-intel==2.18.0->tensorflow) (0.7.2)\n",
      "Requirement already satisfied: werkzeug>=1.0.1 in c:\\users\\vanasauo\\appdata\\local\\anaconda3\\envs\\ids\\lib\\site-packages (from tensorboard<2.19,>=2.18->tensorflow-intel==2.18.0->tensorflow) (3.1.3)\n",
      "Requirement already satisfied: importlib-metadata>=4.4 in c:\\users\\vanasauo\\appdata\\local\\anaconda3\\envs\\ids\\lib\\site-packages (from markdown>=2.6.8->tensorboard<2.19,>=2.18->tensorflow-intel==2.18.0->tensorflow) (7.0.1)\n",
      "Requirement already satisfied: MarkupSafe>=2.1.1 in c:\\users\\vanasauo\\appdata\\local\\anaconda3\\envs\\ids\\lib\\site-packages (from werkzeug>=1.0.1->tensorboard<2.19,>=2.18->tensorflow-intel==2.18.0->tensorflow) (2.1.3)\n",
      "Requirement already satisfied: markdown-it-py>=2.2.0 in c:\\users\\vanasauo\\appdata\\local\\anaconda3\\envs\\ids\\lib\\site-packages (from rich->keras>=3.5.0->tensorflow-intel==2.18.0->tensorflow) (3.0.0)\n",
      "Requirement already satisfied: pygments<3.0.0,>=2.13.0 in c:\\users\\vanasauo\\appdata\\local\\anaconda3\\envs\\ids\\lib\\site-packages (from rich->keras>=3.5.0->tensorflow-intel==2.18.0->tensorflow) (2.15.1)\n",
      "Requirement already satisfied: zipp>=0.5 in c:\\users\\vanasauo\\appdata\\local\\anaconda3\\envs\\ids\\lib\\site-packages (from importlib-metadata>=4.4->markdown>=2.6.8->tensorboard<2.19,>=2.18->tensorflow-intel==2.18.0->tensorflow) (3.17.0)\n",
      "Requirement already satisfied: mdurl~=0.1 in c:\\users\\vanasauo\\appdata\\local\\anaconda3\\envs\\ids\\lib\\site-packages (from markdown-it-py>=2.2.0->rich->keras>=3.5.0->tensorflow-intel==2.18.0->tensorflow) (0.1.2)\n",
      "Requirement already satisfied: transformers in c:\\users\\vanasauo\\appdata\\local\\anaconda3\\envs\\ids\\lib\\site-packages (4.46.3)\n",
      "Requirement already satisfied: filelock in c:\\users\\vanasauo\\appdata\\local\\anaconda3\\envs\\ids\\lib\\site-packages (from transformers) (3.16.1)\n",
      "Requirement already satisfied: huggingface-hub<1.0,>=0.23.2 in c:\\users\\vanasauo\\appdata\\local\\anaconda3\\envs\\ids\\lib\\site-packages (from transformers) (0.26.3)\n",
      "Requirement already satisfied: numpy>=1.17 in c:\\users\\vanasauo\\appdata\\local\\anaconda3\\envs\\ids\\lib\\site-packages (from transformers) (2.0.2)\n",
      "Requirement already satisfied: packaging>=20.0 in c:\\users\\vanasauo\\appdata\\local\\anaconda3\\envs\\ids\\lib\\site-packages (from transformers) (24.1)\n",
      "Requirement already satisfied: pyyaml>=5.1 in c:\\users\\vanasauo\\appdata\\local\\anaconda3\\envs\\ids\\lib\\site-packages (from transformers) (6.0.1)\n",
      "Requirement already satisfied: regex!=2019.12.17 in c:\\users\\vanasauo\\appdata\\local\\anaconda3\\envs\\ids\\lib\\site-packages (from transformers) (2024.11.6)\n",
      "Requirement already satisfied: requests in c:\\users\\vanasauo\\appdata\\local\\anaconda3\\envs\\ids\\lib\\site-packages (from transformers) (2.32.3)\n",
      "Requirement already satisfied: tokenizers<0.21,>=0.20 in c:\\users\\vanasauo\\appdata\\local\\anaconda3\\envs\\ids\\lib\\site-packages (from transformers) (0.20.3)\n",
      "Requirement already satisfied: safetensors>=0.4.1 in c:\\users\\vanasauo\\appdata\\local\\anaconda3\\envs\\ids\\lib\\site-packages (from transformers) (0.4.5)\n",
      "Requirement already satisfied: tqdm>=4.27 in c:\\users\\vanasauo\\appdata\\local\\anaconda3\\envs\\ids\\lib\\site-packages (from transformers) (4.67.0)\n",
      "Requirement already satisfied: fsspec>=2023.5.0 in c:\\users\\vanasauo\\appdata\\local\\anaconda3\\envs\\ids\\lib\\site-packages (from huggingface-hub<1.0,>=0.23.2->transformers) (2024.9.0)\n",
      "Requirement already satisfied: typing-extensions>=3.7.4.3 in c:\\users\\vanasauo\\appdata\\local\\anaconda3\\envs\\ids\\lib\\site-packages (from huggingface-hub<1.0,>=0.23.2->transformers) (4.12.2)\n",
      "Requirement already satisfied: colorama in c:\\users\\vanasauo\\appdata\\local\\anaconda3\\envs\\ids\\lib\\site-packages (from tqdm>=4.27->transformers) (0.4.6)\n",
      "Requirement already satisfied: charset-normalizer<4,>=2 in c:\\users\\vanasauo\\appdata\\local\\anaconda3\\envs\\ids\\lib\\site-packages (from requests->transformers) (3.3.2)\n",
      "Requirement already satisfied: idna<4,>=2.5 in c:\\users\\vanasauo\\appdata\\local\\anaconda3\\envs\\ids\\lib\\site-packages (from requests->transformers) (3.7)\n",
      "Requirement already satisfied: urllib3<3,>=1.21.1 in c:\\users\\vanasauo\\appdata\\local\\anaconda3\\envs\\ids\\lib\\site-packages (from requests->transformers) (2.2.2)\n",
      "Requirement already satisfied: certifi>=2017.4.17 in c:\\users\\vanasauo\\appdata\\local\\anaconda3\\envs\\ids\\lib\\site-packages (from requests->transformers) (2024.8.30)\n",
      "Requirement already satisfied: tensorflow in c:\\users\\vanasauo\\appdata\\local\\anaconda3\\envs\\ids\\lib\\site-packages (2.18.0)\n",
      "Requirement already satisfied: transformers in c:\\users\\vanasauo\\appdata\\local\\anaconda3\\envs\\ids\\lib\\site-packages (4.46.3)\n",
      "Collecting transformers\n",
      "  Downloading transformers-4.47.0-py3-none-any.whl.metadata (43 kB)\n",
      "Requirement already satisfied: tensorflow-intel==2.18.0 in c:\\users\\vanasauo\\appdata\\local\\anaconda3\\envs\\ids\\lib\\site-packages (from tensorflow) (2.18.0)\n",
      "Requirement already satisfied: absl-py>=1.0.0 in c:\\users\\vanasauo\\appdata\\local\\anaconda3\\envs\\ids\\lib\\site-packages (from tensorflow-intel==2.18.0->tensorflow) (2.1.0)\n",
      "Requirement already satisfied: astunparse>=1.6.0 in c:\\users\\vanasauo\\appdata\\local\\anaconda3\\envs\\ids\\lib\\site-packages (from tensorflow-intel==2.18.0->tensorflow) (1.6.3)\n",
      "Requirement already satisfied: flatbuffers>=24.3.25 in c:\\users\\vanasauo\\appdata\\local\\anaconda3\\envs\\ids\\lib\\site-packages (from tensorflow-intel==2.18.0->tensorflow) (24.3.25)\n",
      "Requirement already satisfied: gast!=0.5.0,!=0.5.1,!=0.5.2,>=0.2.1 in c:\\users\\vanasauo\\appdata\\local\\anaconda3\\envs\\ids\\lib\\site-packages (from tensorflow-intel==2.18.0->tensorflow) (0.6.0)\n",
      "Requirement already satisfied: google-pasta>=0.1.1 in c:\\users\\vanasauo\\appdata\\local\\anaconda3\\envs\\ids\\lib\\site-packages (from tensorflow-intel==2.18.0->tensorflow) (0.2.0)\n",
      "Requirement already satisfied: libclang>=13.0.0 in c:\\users\\vanasauo\\appdata\\local\\anaconda3\\envs\\ids\\lib\\site-packages (from tensorflow-intel==2.18.0->tensorflow) (18.1.1)\n",
      "Requirement already satisfied: opt-einsum>=2.3.2 in c:\\users\\vanasauo\\appdata\\local\\anaconda3\\envs\\ids\\lib\\site-packages (from tensorflow-intel==2.18.0->tensorflow) (3.4.0)\n",
      "Requirement already satisfied: packaging in c:\\users\\vanasauo\\appdata\\local\\anaconda3\\envs\\ids\\lib\\site-packages (from tensorflow-intel==2.18.0->tensorflow) (24.1)\n",
      "Requirement already satisfied: protobuf!=4.21.0,!=4.21.1,!=4.21.2,!=4.21.3,!=4.21.4,!=4.21.5,<6.0.0dev,>=3.20.3 in c:\\users\\vanasauo\\appdata\\local\\anaconda3\\envs\\ids\\lib\\site-packages (from tensorflow-intel==2.18.0->tensorflow) (3.20.3)\n",
      "Requirement already satisfied: requests<3,>=2.21.0 in c:\\users\\vanasauo\\appdata\\local\\anaconda3\\envs\\ids\\lib\\site-packages (from tensorflow-intel==2.18.0->tensorflow) (2.32.3)\n",
      "Requirement already satisfied: setuptools in c:\\users\\vanasauo\\appdata\\local\\anaconda3\\envs\\ids\\lib\\site-packages (from tensorflow-intel==2.18.0->tensorflow) (72.1.0)\n",
      "Requirement already satisfied: six>=1.12.0 in c:\\users\\vanasauo\\appdata\\local\\anaconda3\\envs\\ids\\lib\\site-packages (from tensorflow-intel==2.18.0->tensorflow) (1.16.0)\n",
      "Requirement already satisfied: termcolor>=1.1.0 in c:\\users\\vanasauo\\appdata\\local\\anaconda3\\envs\\ids\\lib\\site-packages (from tensorflow-intel==2.18.0->tensorflow) (2.5.0)\n",
      "Requirement already satisfied: typing-extensions>=3.6.6 in c:\\users\\vanasauo\\appdata\\local\\anaconda3\\envs\\ids\\lib\\site-packages (from tensorflow-intel==2.18.0->tensorflow) (4.12.2)\n",
      "Requirement already satisfied: wrapt>=1.11.0 in c:\\users\\vanasauo\\appdata\\local\\anaconda3\\envs\\ids\\lib\\site-packages (from tensorflow-intel==2.18.0->tensorflow) (1.16.0)\n",
      "Requirement already satisfied: grpcio<2.0,>=1.24.3 in c:\\users\\vanasauo\\appdata\\local\\anaconda3\\envs\\ids\\lib\\site-packages (from tensorflow-intel==2.18.0->tensorflow) (1.68.0)\n",
      "Requirement already satisfied: tensorboard<2.19,>=2.18 in c:\\users\\vanasauo\\appdata\\local\\anaconda3\\envs\\ids\\lib\\site-packages (from tensorflow-intel==2.18.0->tensorflow) (2.18.0)\n",
      "Requirement already satisfied: keras>=3.5.0 in c:\\users\\vanasauo\\appdata\\local\\anaconda3\\envs\\ids\\lib\\site-packages (from tensorflow-intel==2.18.0->tensorflow) (3.6.0)\n",
      "Requirement already satisfied: numpy<2.1.0,>=1.26.0 in c:\\users\\vanasauo\\appdata\\local\\anaconda3\\envs\\ids\\lib\\site-packages (from tensorflow-intel==2.18.0->tensorflow) (2.0.2)\n",
      "Requirement already satisfied: h5py>=3.11.0 in c:\\users\\vanasauo\\appdata\\local\\anaconda3\\envs\\ids\\lib\\site-packages (from tensorflow-intel==2.18.0->tensorflow) (3.12.1)\n",
      "Requirement already satisfied: ml-dtypes<0.5.0,>=0.4.0 in c:\\users\\vanasauo\\appdata\\local\\anaconda3\\envs\\ids\\lib\\site-packages (from tensorflow-intel==2.18.0->tensorflow) (0.4.1)\n",
      "Requirement already satisfied: tensorflow-io-gcs-filesystem>=0.23.1 in c:\\users\\vanasauo\\appdata\\local\\anaconda3\\envs\\ids\\lib\\site-packages (from tensorflow-intel==2.18.0->tensorflow) (0.31.0)\n",
      "Requirement already satisfied: filelock in c:\\users\\vanasauo\\appdata\\local\\anaconda3\\envs\\ids\\lib\\site-packages (from transformers) (3.16.1)\n",
      "Requirement already satisfied: huggingface-hub<1.0,>=0.24.0 in c:\\users\\vanasauo\\appdata\\local\\anaconda3\\envs\\ids\\lib\\site-packages (from transformers) (0.26.3)\n",
      "Requirement already satisfied: pyyaml>=5.1 in c:\\users\\vanasauo\\appdata\\local\\anaconda3\\envs\\ids\\lib\\site-packages (from transformers) (6.0.1)\n",
      "Requirement already satisfied: regex!=2019.12.17 in c:\\users\\vanasauo\\appdata\\local\\anaconda3\\envs\\ids\\lib\\site-packages (from transformers) (2024.11.6)\n",
      "Collecting tokenizers<0.22,>=0.21 (from transformers)\n",
      "  Downloading tokenizers-0.21.0-cp39-abi3-win_amd64.whl.metadata (6.9 kB)\n",
      "Requirement already satisfied: safetensors>=0.4.1 in c:\\users\\vanasauo\\appdata\\local\\anaconda3\\envs\\ids\\lib\\site-packages (from transformers) (0.4.5)\n",
      "Requirement already satisfied: tqdm>=4.27 in c:\\users\\vanasauo\\appdata\\local\\anaconda3\\envs\\ids\\lib\\site-packages (from transformers) (4.67.0)\n",
      "Requirement already satisfied: fsspec>=2023.5.0 in c:\\users\\vanasauo\\appdata\\local\\anaconda3\\envs\\ids\\lib\\site-packages (from huggingface-hub<1.0,>=0.24.0->transformers) (2024.9.0)\n",
      "Requirement already satisfied: charset-normalizer<4,>=2 in c:\\users\\vanasauo\\appdata\\local\\anaconda3\\envs\\ids\\lib\\site-packages (from requests<3,>=2.21.0->tensorflow-intel==2.18.0->tensorflow) (3.3.2)\n",
      "Requirement already satisfied: idna<4,>=2.5 in c:\\users\\vanasauo\\appdata\\local\\anaconda3\\envs\\ids\\lib\\site-packages (from requests<3,>=2.21.0->tensorflow-intel==2.18.0->tensorflow) (3.7)\n",
      "Requirement already satisfied: urllib3<3,>=1.21.1 in c:\\users\\vanasauo\\appdata\\local\\anaconda3\\envs\\ids\\lib\\site-packages (from requests<3,>=2.21.0->tensorflow-intel==2.18.0->tensorflow) (2.2.2)\n",
      "Requirement already satisfied: certifi>=2017.4.17 in c:\\users\\vanasauo\\appdata\\local\\anaconda3\\envs\\ids\\lib\\site-packages (from requests<3,>=2.21.0->tensorflow-intel==2.18.0->tensorflow) (2024.8.30)\n",
      "Requirement already satisfied: colorama in c:\\users\\vanasauo\\appdata\\local\\anaconda3\\envs\\ids\\lib\\site-packages (from tqdm>=4.27->transformers) (0.4.6)\n",
      "Requirement already satisfied: wheel<1.0,>=0.23.0 in c:\\users\\vanasauo\\appdata\\local\\anaconda3\\envs\\ids\\lib\\site-packages (from astunparse>=1.6.0->tensorflow-intel==2.18.0->tensorflow) (0.44.0)\n",
      "Requirement already satisfied: rich in c:\\users\\vanasauo\\appdata\\local\\anaconda3\\envs\\ids\\lib\\site-packages (from keras>=3.5.0->tensorflow-intel==2.18.0->tensorflow) (13.9.4)\n",
      "Requirement already satisfied: namex in c:\\users\\vanasauo\\appdata\\local\\anaconda3\\envs\\ids\\lib\\site-packages (from keras>=3.5.0->tensorflow-intel==2.18.0->tensorflow) (0.0.8)\n",
      "Requirement already satisfied: optree in c:\\users\\vanasauo\\appdata\\local\\anaconda3\\envs\\ids\\lib\\site-packages (from keras>=3.5.0->tensorflow-intel==2.18.0->tensorflow) (0.13.1)\n",
      "Requirement already satisfied: markdown>=2.6.8 in c:\\users\\vanasauo\\appdata\\local\\anaconda3\\envs\\ids\\lib\\site-packages (from tensorboard<2.19,>=2.18->tensorflow-intel==2.18.0->tensorflow) (3.7)\n",
      "Requirement already satisfied: tensorboard-data-server<0.8.0,>=0.7.0 in c:\\users\\vanasauo\\appdata\\local\\anaconda3\\envs\\ids\\lib\\site-packages (from tensorboard<2.19,>=2.18->tensorflow-intel==2.18.0->tensorflow) (0.7.2)\n",
      "Requirement already satisfied: werkzeug>=1.0.1 in c:\\users\\vanasauo\\appdata\\local\\anaconda3\\envs\\ids\\lib\\site-packages (from tensorboard<2.19,>=2.18->tensorflow-intel==2.18.0->tensorflow) (3.1.3)\n",
      "Requirement already satisfied: importlib-metadata>=4.4 in c:\\users\\vanasauo\\appdata\\local\\anaconda3\\envs\\ids\\lib\\site-packages (from markdown>=2.6.8->tensorboard<2.19,>=2.18->tensorflow-intel==2.18.0->tensorflow) (7.0.1)\n",
      "Requirement already satisfied: MarkupSafe>=2.1.1 in c:\\users\\vanasauo\\appdata\\local\\anaconda3\\envs\\ids\\lib\\site-packages (from werkzeug>=1.0.1->tensorboard<2.19,>=2.18->tensorflow-intel==2.18.0->tensorflow) (2.1.3)\n",
      "Requirement already satisfied: markdown-it-py>=2.2.0 in c:\\users\\vanasauo\\appdata\\local\\anaconda3\\envs\\ids\\lib\\site-packages (from rich->keras>=3.5.0->tensorflow-intel==2.18.0->tensorflow) (3.0.0)\n",
      "Requirement already satisfied: pygments<3.0.0,>=2.13.0 in c:\\users\\vanasauo\\appdata\\local\\anaconda3\\envs\\ids\\lib\\site-packages (from rich->keras>=3.5.0->tensorflow-intel==2.18.0->tensorflow) (2.15.1)\n",
      "Requirement already satisfied: zipp>=0.5 in c:\\users\\vanasauo\\appdata\\local\\anaconda3\\envs\\ids\\lib\\site-packages (from importlib-metadata>=4.4->markdown>=2.6.8->tensorboard<2.19,>=2.18->tensorflow-intel==2.18.0->tensorflow) (3.17.0)\n",
      "Requirement already satisfied: mdurl~=0.1 in c:\\users\\vanasauo\\appdata\\local\\anaconda3\\envs\\ids\\lib\\site-packages (from markdown-it-py>=2.2.0->rich->keras>=3.5.0->tensorflow-intel==2.18.0->tensorflow) (0.1.2)\n",
      "Downloading transformers-4.47.0-py3-none-any.whl (10.1 MB)\n",
      "   ---------------------------------------- 0.0/10.1 MB ? eta -:--:--\n",
      "   --------------------- ------------------ 5.5/10.1 MB 30.5 MB/s eta 0:00:01\n",
      "   ---------------------------------------- 10.1/10.1 MB 30.1 MB/s eta 0:00:00\n",
      "Downloading tokenizers-0.21.0-cp39-abi3-win_amd64.whl (2.4 MB)\n",
      "   ---------------------------------------- 0.0/2.4 MB ? eta -:--:--\n",
      "   ---------------------------------------- 2.4/2.4 MB 33.8 MB/s eta 0:00:00\n",
      "Installing collected packages: tokenizers, transformers\n",
      "  Attempting uninstall: tokenizers\n",
      "    Found existing installation: tokenizers 0.20.3\n",
      "    Uninstalling tokenizers-0.20.3:\n",
      "      Successfully uninstalled tokenizers-0.20.3\n",
      "  Attempting uninstall: transformers\n",
      "    Found existing installation: transformers 4.46.3\n",
      "    Uninstalling transformers-4.46.3:\n",
      "      Successfully uninstalled transformers-4.46.3\n",
      "Successfully installed tokenizers-0.21.0 transformers-4.47.0\n"
     ]
    },
    {
     "name": "stderr",
     "output_type": "stream",
     "text": [
      "  WARNING: Failed to remove contents in a temporary directory 'C:\\Users\\vanasauo\\AppData\\Local\\anaconda3\\envs\\IDS\\Lib\\site-packages\\~okenizers'.\n",
      "  You can safely remove it manually.\n"
     ]
    }
   ],
   "source": [
    "!pip install transformers datasets torch scikit-learn\n",
    "!pip install tf-keras\n",
    "!pip install tensorflow\n",
    "!pip install transformers\n",
    "!pip install --upgrade tensorflow transformers\n",
    "import os\n",
    "import re\n",
    "import string\n",
    "from time import time\n",
    "from collections import Counter\n",
    "\n",
    "import pandas as pd\n",
    "import numpy as np\n",
    "from sklearn.model_selection import train_test_split\n",
    "from sklearn.preprocessing import LabelEncoder\n",
    "from sklearn.utils.class_weight import compute_class_weight\n",
    "\n",
    "from sklearn.metrics import accuracy_score, confusion_matrix\n",
    "\n",
    "import nltk\n",
    "from nltk.corpus import stopwords\n",
    "from nltk.stem import WordNetLemmatizer\n",
    "\n",
    "import tensorflow as tf\n",
    "from tensorflow.keras.models import Sequential\n",
    "from tensorflow.keras.layers import (\n",
    "    Embedding, LSTM, Dense, Dropout, SpatialDropout1D, Bidirectional\n",
    ")\n",
    "from tensorflow.keras.preprocessing.sequence import pad_sequences\n",
    "from tensorflow.keras.optimizers import Adam\n",
    "from tensorflow.keras.losses import SparseCategoricalCrossentropy\n",
    "from tensorflow.keras.callbacks import EarlyStopping\n",
    "from tensorflow.keras.layers import BatchNormalization\n",
    "\n",
    "from transformers import (\n",
    "    TrainingArguments, Trainer, AutoTokenizer, AutoModelForSequenceClassification,\n",
    "    BertTokenizer, TFGPT2LMHeadModel, GPT2Tokenizer, TFAutoModelForSequenceClassification\n",
    ")"
   ]
  },
  {
   "cell_type": "markdown",
   "id": "4c1bb582-19a3-4fda-aa5d-f2cb808b59da",
   "metadata": {},
   "source": [
    "#### Disabling warnings"
   ]
  },
  {
   "cell_type": "code",
   "execution_count": 2,
   "id": "7b785d32-8989-49f7-8fea-900e95e908cc",
   "metadata": {},
   "outputs": [],
   "source": [
    "import warnings\n",
    "warnings.filterwarnings('ignore', category=FutureWarning)"
   ]
  },
  {
   "cell_type": "markdown",
   "id": "3e73a1a6-5d9a-423a-bc9c-2e8db0d51703",
   "metadata": {},
   "source": [
    "#### Reading data from csv files"
   ]
  },
  {
   "cell_type": "code",
   "execution_count": 3,
   "id": "419e5840-25ae-48e9-9788-32a7b9de4eaa",
   "metadata": {},
   "outputs": [],
   "source": [
    "dataTrain = pd.read_csv(\"data/train.csv\")\n",
    "dataTest = pd.read_csv(\"data/test.csv\")\n",
    "dataSampleSubmit = pd.read_csv(\"data/sample_submission.csv\")"
   ]
  },
  {
   "cell_type": "markdown",
   "id": "bc44e182-4b4a-41ee-ba3b-4d21728a9da7",
   "metadata": {},
   "source": [
    "#### Data description and understanding"
   ]
  },
  {
   "cell_type": "code",
   "execution_count": 4,
   "id": "7c522d6b-2f3d-44b1-aa21-e255eb774882",
   "metadata": {},
   "outputs": [
    {
     "name": "stdout",
     "output_type": "stream",
     "text": [
      "<class 'pandas.core.frame.DataFrame'>\n",
      "RangeIndex: 7613 entries, 0 to 7612\n",
      "Data columns (total 5 columns):\n",
      " #   Column    Non-Null Count  Dtype \n",
      "---  ------    --------------  ----- \n",
      " 0   id        7613 non-null   int64 \n",
      " 1   keyword   7552 non-null   object\n",
      " 2   location  5080 non-null   object\n",
      " 3   text      7613 non-null   object\n",
      " 4   target    7613 non-null   int64 \n",
      "dtypes: int64(2), object(3)\n",
      "memory usage: 297.5+ KB\n",
      "None\n",
      "________________________________________\n",
      "Total words: 113461\n",
      "Unique words: 31924\n",
      "________________________________________\n",
      "Number of unique disasters: 221\n",
      "________________________________________\n",
      "Number of unique locations: 3341\n"
     ]
    }
   ],
   "source": [
    "disasters = []\n",
    "locations = [] \n",
    "total_words = Counter()\n",
    "for row in dataTrain.itertuples(index=True):\n",
    "    if pd.notna(row.keyword): \n",
    "        if row.keyword not in disasters:\n",
    "            disasters.append(row.keyword)\n",
    "    if pd.notna(row.location): \n",
    "        if row.location not in locations:\n",
    "            locations.append(row.location)\n",
    "            \n",
    "    words = row.text.split() \n",
    "    total_words.update(words)\n",
    "    \n",
    "unique_word_count = len(total_words)\n",
    "\n",
    "\n",
    "print(dataTrain.info())\n",
    "print(\"________________________________________\")\n",
    "print(\"Total words:\", sum(total_words.values()))\n",
    "print(\"Unique words:\", unique_word_count)\n",
    "print(\"________________________________________\")\n",
    "print(\"Number of unique disasters:\", len(disasters))\n",
    "print(\"________________________________________\")\n",
    "print(\"Number of unique locations:\", len(locations))"
   ]
  },
  {
   "cell_type": "markdown",
   "id": "5e462ee7-83d0-4eb0-8af7-d3dd6f420717",
   "metadata": {},
   "source": [
    "#### Data preparation"
   ]
  },
  {
   "cell_type": "code",
   "execution_count": 239,
   "id": "5b6e0300-135f-4820-b5b7-eec369d8eba0",
   "metadata": {},
   "outputs": [
    {
     "name": "stderr",
     "output_type": "stream",
     "text": [
      "[nltk_data] Downloading package stopwords to\n",
      "[nltk_data]     C:\\Users\\vanasauo\\AppData\\Roaming\\nltk_data...\n",
      "[nltk_data]   Package stopwords is already up-to-date!\n",
      "[nltk_data] Downloading package punkt_tab to\n",
      "[nltk_data]     C:\\Users\\vanasauo\\AppData\\Roaming\\nltk_data...\n",
      "[nltk_data]   Package punkt_tab is already up-to-date!\n",
      "[nltk_data] Downloading package wordnet to\n",
      "[nltk_data]     C:\\Users\\vanasauo\\AppData\\Roaming\\nltk_data...\n",
      "[nltk_data]   Package wordnet is already up-to-date!\n"
     ]
    }
   ],
   "source": [
    "tokenizer = AutoTokenizer.from_pretrained(\"bert-base-uncased\")\n",
    "max_len = 1400\n",
    "\n",
    "nltk.download('stopwords')\n",
    "nltk.download('punkt_tab')\n",
    "nltk.download('wordnet')\n",
    "\n",
    "def preprocess_text(text):\n",
    "     # Remove links, mentions, hashtags from tweet texts\n",
    "    text = re.sub(r\"http\\S+|www\\S+|https\\S+\", '', text, flags=re.MULTILINE)\n",
    "    \n",
    "    # Remove special characters and numbers\n",
    "    text = re.sub(r'\\@\\w+|\\#', '', text)\n",
    "    text = re.sub(r'\\d+', '', text)\n",
    "    \n",
    "    # Convert text to lowercase\n",
    "    text = text.lower()\n",
    "    \n",
    "    # Remove punctuation\n",
    "    text = text.translate(str.maketrans('', '', string.punctuation))\n",
    "    \n",
    "    # Remove stopwords (words that don't add anything meaningful to the text)\n",
    "    stopword = set(stopwords.words('english'))\n",
    "    text = \" \".join([word for word in text.split() if word not in stopword])\n",
    "    \n",
    "    tokens = nltk.word_tokenize(text)\n",
    "    lemmatizer = WordNetLemmatizer()\n",
    "    for token in tokens:\n",
    "        lemma = lemmatizer.lemmatize(token)\n",
    "        \n",
    "    text = ' '.join(tokens)\n",
    "    return text\n",
    "\n",
    "def oversampling(data):\n",
    "    #TODO: apply oversampling and/or undersampling to balance data\n",
    "    majority_size = data['label'].value_counts().max()\n",
    "    negative_sample = data[data['label'] == 0]\n",
    "    positive_sample = data[data['label'] == 1].sample(n = majority_size, replace = True, random_state=42)\n",
    "    train_random_oversampled = pd.concat([positive_sample, negative_sample])\n",
    "    train_random_oversampled.sort_index(inplace=True)\n",
    "    return train_random_oversampled\n",
    "    \n",
    "def preprocess_data(data):\n",
    "    data['text'] = data['text'].apply(preprocess_text)\n",
    "    label_encoder = LabelEncoder()\n",
    "    data['label'] = label_encoder.fit_transform(data['target'])\n",
    "\n",
    "    \n",
    "    return data, label_encoder\n",
    "\n",
    "def tokenize_and_prepare(data, max_length=512):\n",
    "    tokenizer = BertTokenizer.from_pretrained('bert-base-uncased')\n",
    "    data['tokens'] = data['text'].apply(lambda x: tokenizer.encode(x, add_special_tokens=True, max_length=max_length, truncation=True))\n",
    "    token_sequences = pad_sequences(data['tokens'], maxlen=max_length, padding='post')\n",
    "    return token_sequences\n",
    "\n",
    "\n",
    "def eeltöötlus(trainset):\n",
    "    trainset, label_encoder = preprocess_data(trainset)\n",
    "    train_data, val_data = train_test_split(trainset, test_size=0.2, random_state=42)\n",
    "    train_data = oversampling(train_data)\n",
    "    train_labels = train_data['label']\n",
    "    val_labels = val_data['label']\n",
    "   # print(train_data['text'])\n",
    "    train_sequences = tokenize_and_prepare(train_data)\n",
    "    val_sequences = tokenize_and_prepare(val_data)\n",
    "    \n",
    "    train_sequences = pad_sequences(\n",
    "    train_data['text'].apply(lambda x: tokenizer.encode(x, add_special_tokens=True, max_length=max_len, truncation=True)),\n",
    "    maxlen=max_len, padding='post'\n",
    ")\n",
    "    return train_sequences, val_sequences, train_labels, val_labels, label_encoder\n",
    "\n",
    "train_sequences, val_sequences, train_labels, val_labels, label_encoder = eeltöötlus(dataTrain)\n",
    "\n",
    "\n",
    "\n",
    "\n"
   ]
  },
  {
   "cell_type": "code",
   "execution_count": 240,
   "id": "4f89a957-53bd-4e60-9dea-6486ef349704",
   "metadata": {},
   "outputs": [
    {
     "name": "stdout",
     "output_type": "stream",
     "text": [
      "(6936, 1400)\n",
      "(6936,)\n",
      "(1523, 512)\n",
      "(1523,)\n"
     ]
    }
   ],
   "source": [
    "print(train_sequences.shape)\n",
    "print(train_labels.shape)\n",
    "print(val_sequences.shape)\n",
    "print(val_labels.shape)"
   ]
  },
  {
   "cell_type": "markdown",
   "id": "c572e26b-80ba-4824-a591-21b49cd0ce63",
   "metadata": {},
   "source": [
    "#### Model building"
   ]
  },
  {
   "cell_type": "code",
   "execution_count": 241,
   "id": "989cc2a1-25e4-45ac-b722-126306869661",
   "metadata": {
    "scrolled": true
   },
   "outputs": [],
   "source": [
    "vocab_size = 30522\n",
    "embedding_dim = 256\n",
    "\n",
    "modelLSTM = Sequential([\n",
    "    Embedding(input_dim=vocab_size, output_dim=embedding_dim),\n",
    "    SpatialDropout1D(0.4),\n",
    "    BatchNormalization(),\n",
    "    Bidirectional(LSTM(4, dropout=0.4, recurrent_dropout=0.3)),\n",
    "    Dropout(0.4),\n",
    "    Dense(2, activation='softmax', kernel_regularizer=tf.keras.regularizers.l2(0.1))\n",
    "])\n",
    "\n",
    "modelLSTM.compile(loss='sparse_categorical_crossentropy', optimizer='adam', metrics=['accuracy'])"
   ]
  },
  {
   "cell_type": "markdown",
   "id": "95349017-c454-4484-9e8d-edbd8830cf94",
   "metadata": {},
   "source": [
    "#### Model training"
   ]
  },
  {
   "cell_type": "code",
   "execution_count": 242,
   "id": "30a03cd3-d4ac-437a-a75b-ea6b98727f3f",
   "metadata": {},
   "outputs": [
    {
     "name": "stdout",
     "output_type": "stream",
     "text": [
      "(6936, 1400)\n",
      "(6936,)\n",
      "(1523, 512)\n",
      "(1523,)\n"
     ]
    },
    {
     "data": {
      "text/plain": [
       "label\n",
       "1    3468\n",
       "0    3468\n",
       "Name: count, dtype: int64"
      ]
     },
     "execution_count": 242,
     "metadata": {},
     "output_type": "execute_result"
    }
   ],
   "source": [
    "print(train_sequences.shape)\n",
    "print(train_labels.shape)\n",
    "print(val_sequences.shape)\n",
    "print(val_labels.shape)\n",
    "train_labels.value_counts()"
   ]
  },
  {
   "cell_type": "code",
   "execution_count": 243,
   "id": "58a655d3-9e8b-4505-8250-288d7544e9dc",
   "metadata": {
    "scrolled": true
   },
   "outputs": [
    {
     "name": "stdout",
     "output_type": "stream",
     "text": [
      "Epoch 1/5\n",
      "\u001b[1m217/217\u001b[0m \u001b[32m━━━━━━━━━━━━━━━━━━━━\u001b[0m\u001b[37m\u001b[0m \u001b[1m453s\u001b[0m 2s/step - accuracy: 0.5412 - loss: 0.9597 - val_accuracy: 0.7183 - val_loss: 0.7937\n",
      "Epoch 2/5\n",
      "\u001b[1m217/217\u001b[0m \u001b[32m━━━━━━━━━━━━━━━━━━━━\u001b[0m\u001b[37m\u001b[0m \u001b[1m446s\u001b[0m 2s/step - accuracy: 0.6412 - loss: 0.7337 - val_accuracy: 0.7708 - val_loss: 0.6241\n",
      "Epoch 3/5\n",
      "\u001b[1m217/217\u001b[0m \u001b[32m━━━━━━━━━━━━━━━━━━━━\u001b[0m\u001b[37m\u001b[0m \u001b[1m446s\u001b[0m 2s/step - accuracy: 0.7791 - loss: 0.5602 - val_accuracy: 0.7708 - val_loss: 0.5683\n",
      "Epoch 4/5\n",
      "\u001b[1m217/217\u001b[0m \u001b[32m━━━━━━━━━━━━━━━━━━━━\u001b[0m\u001b[37m\u001b[0m \u001b[1m455s\u001b[0m 2s/step - accuracy: 0.8274 - loss: 0.4777 - val_accuracy: 0.7708 - val_loss: 0.5656\n",
      "Epoch 5/5\n",
      "\u001b[1m217/217\u001b[0m \u001b[32m━━━━━━━━━━━━━━━━━━━━\u001b[0m\u001b[37m\u001b[0m \u001b[1m459s\u001b[0m 2s/step - accuracy: 0.8969 - loss: 0.3864 - val_accuracy: 0.7656 - val_loss: 0.5784\n",
      "Aega treenimiseks läks 38 minutit ja 39.88 sekundit.\n"
     ]
    }
   ],
   "source": [
    "algus = time()\n",
    "\n",
    "early_stopping = EarlyStopping(monitor='val_loss', patience=3, restore_best_weights=True)\n",
    "try:\n",
    "    history = modelLSTM.fit(\n",
    "        train_sequences,\n",
    "        train_labels,\n",
    "        epochs=5,\n",
    "        batch_size=32,\n",
    "        validation_data=(val_sequences, val_labels),\n",
    "        callbacks=[early_stopping],\n",
    "        verbose=1\n",
    "    )\n",
    "except KeyError as e:\n",
    "    print(\"KeyError encountered:\", e)\n",
    "\n",
    "aeg = time()-algus\n",
    "print(\"Aega treenimiseks läks {} minutit ja {} sekundit.\".format(round(aeg/60), round(aeg%60,2)))"
   ]
  },
  {
   "cell_type": "code",
   "execution_count": 244,
   "id": "94d3eb4b-0c5d-42ca-806a-b271e1a15f9f",
   "metadata": {},
   "outputs": [
    {
     "name": "stdout",
     "output_type": "stream",
     "text": [
      "\u001b[1m48/48\u001b[0m \u001b[32m━━━━━━━━━━━━━━━━━━━━\u001b[0m\u001b[37m\u001b[0m \u001b[1m5s\u001b[0m 101ms/step\n",
      "Segadusmaatriks:\n",
      "[[761 113]\n",
      " [236 413]]\n",
      "Accuracy: 0.7708470124753776\n",
      "Precision:  0.7632898696088265\n",
      "Recall:  0.8707093821510298\n",
      "F1-measure: 0.8134687332977019\n"
     ]
    }
   ],
   "source": [
    "X_valLSTM = val_sequences\n",
    "\n",
    "y_valLSTM = modelLSTM.predict(X_valLSTM)\n",
    "\n",
    "y_valLSTM = [np.argmax(vastus) for vastus in y_valLSTM]\n",
    "\n",
    "print(\"Segadusmaatriks:\")\n",
    "conf_mat = confusion_matrix(val_labels, y_valLSTM)\n",
    "print(conf_mat)\n",
    "accuracy = (conf_mat[0][0] + conf_mat[1][1])/(conf_mat[0][0] + conf_mat[0][1] + conf_mat[1][0] + conf_mat[1][1])\n",
    "precision = conf_mat[0][0] / (conf_mat[0][0] + conf_mat[1][0])\n",
    "recall = conf_mat[0][0] / (conf_mat[0][0] + conf_mat[0][1])\n",
    "f1_measure = 2 / ((1/precision) + (1/recall))\n",
    "print(\"Accuracy:\", accuracy) #TP + TN / TP + FN + FP + TN\n",
    "print(\"Precision: \", precision) # TP / TP + FP\n",
    "print(\"Recall: \", recall) # TP / TP + FN\n",
    "print(\"F1-measure:\", f1_measure)"
   ]
  },
  {
   "cell_type": "markdown",
   "id": "8fcfcbeb-2140-4a64-8d24-9c0d7a0296f5",
   "metadata": {},
   "source": [
    "#### Model testing"
   ]
  },
  {
   "cell_type": "code",
   "execution_count": 247,
   "id": "8469f654-58c2-414f-bd03-3b55640e5e19",
   "metadata": {},
   "outputs": [
    {
     "ename": "TypeError",
     "evalue": "expected string or bytes-like object",
     "output_type": "error",
     "traceback": [
      "\u001b[1;31m---------------------------------------------------------------------------\u001b[0m",
      "\u001b[1;31mTypeError\u001b[0m                                 Traceback (most recent call last)",
      "Cell \u001b[1;32mIn[247], line 1\u001b[0m\n\u001b[1;32m----> 1\u001b[0m test_sequences \u001b[38;5;241m=\u001b[39m \u001b[43mpreprocess_text\u001b[49m\u001b[43m(\u001b[49m\u001b[43mdataTest\u001b[49m\u001b[43m)\u001b[49m\n\u001b[0;32m      2\u001b[0m test_sequences \u001b[38;5;241m=\u001b[39m tokenize_and_prepare(test_sequences)\n\u001b[0;32m      3\u001b[0m test_sequences \u001b[38;5;241m=\u001b[39m pad_sequences(\n\u001b[0;32m      4\u001b[0m     dataTest[\u001b[38;5;124m'\u001b[39m\u001b[38;5;124mtext\u001b[39m\u001b[38;5;124m'\u001b[39m]\u001b[38;5;241m.\u001b[39mapply(\u001b[38;5;28;01mlambda\u001b[39;00m x: tokenizer\u001b[38;5;241m.\u001b[39mencode(x, add_special_tokens\u001b[38;5;241m=\u001b[39m\u001b[38;5;28;01mTrue\u001b[39;00m, max_length\u001b[38;5;241m=\u001b[39mmax_len, truncation\u001b[38;5;241m=\u001b[39m\u001b[38;5;28;01mTrue\u001b[39;00m)),\n\u001b[0;32m      5\u001b[0m     maxlen\u001b[38;5;241m=\u001b[39mmax_len, padding\u001b[38;5;241m=\u001b[39m\u001b[38;5;124m'\u001b[39m\u001b[38;5;124mpost\u001b[39m\u001b[38;5;124m'\u001b[39m\n\u001b[0;32m      6\u001b[0m )\n",
      "Cell \u001b[1;32mIn[239], line 10\u001b[0m, in \u001b[0;36mpreprocess_text\u001b[1;34m(text)\u001b[0m\n\u001b[0;32m      8\u001b[0m \u001b[38;5;28;01mdef\u001b[39;00m \u001b[38;5;21mpreprocess_text\u001b[39m(text):\n\u001b[0;32m      9\u001b[0m      \u001b[38;5;66;03m# Remove links, mentions, hashtags from tweet texts\u001b[39;00m\n\u001b[1;32m---> 10\u001b[0m     text \u001b[38;5;241m=\u001b[39m \u001b[43mre\u001b[49m\u001b[38;5;241;43m.\u001b[39;49m\u001b[43msub\u001b[49m\u001b[43m(\u001b[49m\u001b[38;5;124;43mr\u001b[39;49m\u001b[38;5;124;43m\"\u001b[39;49m\u001b[38;5;124;43mhttp\u001b[39;49m\u001b[38;5;124;43m\\\u001b[39;49m\u001b[38;5;124;43mS+|www\u001b[39;49m\u001b[38;5;124;43m\\\u001b[39;49m\u001b[38;5;124;43mS+|https\u001b[39;49m\u001b[38;5;124;43m\\\u001b[39;49m\u001b[38;5;124;43mS+\u001b[39;49m\u001b[38;5;124;43m\"\u001b[39;49m\u001b[43m,\u001b[49m\u001b[43m \u001b[49m\u001b[38;5;124;43m'\u001b[39;49m\u001b[38;5;124;43m'\u001b[39;49m\u001b[43m,\u001b[49m\u001b[43m \u001b[49m\u001b[43mtext\u001b[49m\u001b[43m,\u001b[49m\u001b[43m \u001b[49m\u001b[43mflags\u001b[49m\u001b[38;5;241;43m=\u001b[39;49m\u001b[43mre\u001b[49m\u001b[38;5;241;43m.\u001b[39;49m\u001b[43mMULTILINE\u001b[49m\u001b[43m)\u001b[49m\n\u001b[0;32m     12\u001b[0m     \u001b[38;5;66;03m# Remove special characters and numbers\u001b[39;00m\n\u001b[0;32m     13\u001b[0m     text \u001b[38;5;241m=\u001b[39m re\u001b[38;5;241m.\u001b[39msub(\u001b[38;5;124mr\u001b[39m\u001b[38;5;124m'\u001b[39m\u001b[38;5;124m\\\u001b[39m\u001b[38;5;124m@\u001b[39m\u001b[38;5;124m\\\u001b[39m\u001b[38;5;124mw+|\u001b[39m\u001b[38;5;124m\\\u001b[39m\u001b[38;5;124m#\u001b[39m\u001b[38;5;124m'\u001b[39m, \u001b[38;5;124m'\u001b[39m\u001b[38;5;124m'\u001b[39m, text)\n",
      "File \u001b[1;32m~\\AppData\\Local\\anaconda3\\envs\\IDS\\lib\\re.py:210\u001b[0m, in \u001b[0;36msub\u001b[1;34m(pattern, repl, string, count, flags)\u001b[0m\n\u001b[0;32m    203\u001b[0m \u001b[38;5;28;01mdef\u001b[39;00m \u001b[38;5;21msub\u001b[39m(pattern, repl, string, count\u001b[38;5;241m=\u001b[39m\u001b[38;5;241m0\u001b[39m, flags\u001b[38;5;241m=\u001b[39m\u001b[38;5;241m0\u001b[39m):\n\u001b[0;32m    204\u001b[0m \u001b[38;5;250m    \u001b[39m\u001b[38;5;124;03m\"\"\"Return the string obtained by replacing the leftmost\u001b[39;00m\n\u001b[0;32m    205\u001b[0m \u001b[38;5;124;03m    non-overlapping occurrences of the pattern in string by the\u001b[39;00m\n\u001b[0;32m    206\u001b[0m \u001b[38;5;124;03m    replacement repl.  repl can be either a string or a callable;\u001b[39;00m\n\u001b[0;32m    207\u001b[0m \u001b[38;5;124;03m    if a string, backslash escapes in it are processed.  If it is\u001b[39;00m\n\u001b[0;32m    208\u001b[0m \u001b[38;5;124;03m    a callable, it's passed the Match object and must return\u001b[39;00m\n\u001b[0;32m    209\u001b[0m \u001b[38;5;124;03m    a replacement string to be used.\"\"\"\u001b[39;00m\n\u001b[1;32m--> 210\u001b[0m     \u001b[38;5;28;01mreturn\u001b[39;00m \u001b[43m_compile\u001b[49m\u001b[43m(\u001b[49m\u001b[43mpattern\u001b[49m\u001b[43m,\u001b[49m\u001b[43m \u001b[49m\u001b[43mflags\u001b[49m\u001b[43m)\u001b[49m\u001b[38;5;241;43m.\u001b[39;49m\u001b[43msub\u001b[49m\u001b[43m(\u001b[49m\u001b[43mrepl\u001b[49m\u001b[43m,\u001b[49m\u001b[43m \u001b[49m\u001b[43mstring\u001b[49m\u001b[43m,\u001b[49m\u001b[43m \u001b[49m\u001b[43mcount\u001b[49m\u001b[43m)\u001b[49m\n",
      "\u001b[1;31mTypeError\u001b[0m: expected string or bytes-like object"
     ]
    }
   ],
   "source": [
    "dataTest['text'] = dataTest['text'].apply(preproces)\n",
    "test_sequences = \n",
    "test_sequences = tokenize_and_prepare(test_sequences)\n",
    "test_sequences = pad_sequences(\n",
    "    dataTest['text'].apply(lambda x: tokenizer.encode(x, add_special_tokens=True, max_length=max_len, truncation=True)),\n",
    "    maxlen=max_len, padding='post'\n",
    ")\n",
    "\n",
    "X_testLSTM = test_sequences\n",
    "\n",
    "y_predsLSTM = modelLSTM.predict(X_testLSTM)\n",
    "\n",
    "y_predsLSTM = [np.argmax(vastus) for vastus in y_predsLSTM]"
   ]
  },
  {
   "cell_type": "markdown",
   "id": "0f190882-dced-42c5-be48-3b346bb2abe1",
   "metadata": {},
   "source": [
    "#### Submition, review, reporting and ..."
   ]
  },
  {
   "cell_type": "code",
   "execution_count": 246,
   "id": "038d83c7-bd57-4ada-9792-e6bffa998d3b",
   "metadata": {},
   "outputs": [],
   "source": [
    "test_results = pd.DataFrame({'id':dataTest['id'], 'target':y_predsLSTM})\n",
    "test_results.to_csv(\"submission12.csv\", index=False)\n",
    "\n",
    "#TODO: Saada f-measure 0.8 peale\n",
    "#TODO: Ühendada veebilehega et me saaks postrisessil demo näidata\n",
    "#TODO: See for-loop siia et ta pakuks mis tüüpi disaster on"
   ]
  }
 ],
 "metadata": {
  "kernelspec": {
   "display_name": "Python 3 (ipykernel)",
   "language": "python",
   "name": "python3"
  },
  "language_info": {
   "codemirror_mode": {
    "name": "ipython",
    "version": 3
   },
   "file_extension": ".py",
   "mimetype": "text/x-python",
   "name": "python",
   "nbconvert_exporter": "python",
   "pygments_lexer": "ipython3",
   "version": "3.9.19"
  }
 },
 "nbformat": 4,
 "nbformat_minor": 5
}
