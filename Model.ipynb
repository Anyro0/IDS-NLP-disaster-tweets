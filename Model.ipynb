{
 "cells": [
  {
   "cell_type": "markdown",
   "id": "faee0b0c-d77b-4d7d-8bcf-b3b81bb38a78",
   "metadata": {},
   "source": [
    "Natural Language Processing with Disaster Tweets"
   ]
  },
  {
   "cell_type": "markdown",
   "id": "dd5d6fa7-52e0-4cd2-bbc9-e509c4cf0692",
   "metadata": {},
   "source": [
    "Team: Robyn Tomson and Otto-Cristofer Vanasaun"
   ]
  },
  {
   "cell_type": "code",
   "execution_count": 2,
   "id": "e83e0183-1fba-4869-a72b-492d9d79d1a3",
   "metadata": {},
   "outputs": [
    {
     "name": "stdout",
     "output_type": "stream",
     "text": [
      "hello world!\n"
     ]
    }
   ],
   "source": [
    "print(\"hello world!\")"
   ]
  }
 ],
 "metadata": {
  "kernelspec": {
   "display_name": "Python 3 (ipykernel)",
   "language": "python",
   "name": "python3"
  },
  "language_info": {
   "codemirror_mode": {
    "name": "ipython",
    "version": 3
   },
   "file_extension": ".py",
   "mimetype": "text/x-python",
   "name": "python",
   "nbconvert_exporter": "python",
   "pygments_lexer": "ipython3",
   "version": "3.12.0"
  }
 },
 "nbformat": 4,
 "nbformat_minor": 5
}
